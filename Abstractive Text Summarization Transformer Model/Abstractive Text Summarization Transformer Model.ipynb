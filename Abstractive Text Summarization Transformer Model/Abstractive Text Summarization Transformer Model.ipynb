{
 "cells": [
  {
   "cell_type": "code",
   "execution_count": 1,
   "id": "3b74fcab",
   "metadata": {},
   "outputs": [
    {
     "name": "stdout",
     "output_type": "stream",
     "text": [
      "Requirement already satisfied: transformers in d:\\new folder\\anaconda\\lib\\site-packages (4.32.1)\n",
      "Requirement already satisfied: filelock in d:\\new folder\\anaconda\\lib\\site-packages (from transformers) (3.9.0)\n",
      "Requirement already satisfied: huggingface-hub<1.0,>=0.15.1 in d:\\new folder\\anaconda\\lib\\site-packages (from transformers) (0.26.1)\n",
      "Requirement already satisfied: numpy>=1.17 in d:\\new folder\\anaconda\\lib\\site-packages (from transformers) (1.24.3)\n",
      "Requirement already satisfied: packaging>=20.0 in d:\\new folder\\anaconda\\lib\\site-packages (from transformers) (23.1)\n",
      "Requirement already satisfied: pyyaml>=5.1 in d:\\new folder\\anaconda\\lib\\site-packages (from transformers) (6.0)\n",
      "Requirement already satisfied: regex!=2019.12.17 in d:\\new folder\\anaconda\\lib\\site-packages (from transformers) (2022.7.9)\n",
      "Requirement already satisfied: requests in d:\\new folder\\anaconda\\lib\\site-packages (from transformers) (2.31.0)\n",
      "Collecting tokenizers!=0.11.3,<0.14,>=0.11.1 (from transformers)\n",
      "  Downloading tokenizers-0.13.3-cp311-cp311-win_amd64.whl.metadata (6.9 kB)\n",
      "Requirement already satisfied: safetensors>=0.3.1 in d:\\new folder\\anaconda\\lib\\site-packages (from transformers) (0.4.5)\n",
      "Requirement already satisfied: tqdm>=4.27 in d:\\new folder\\anaconda\\lib\\site-packages (from transformers) (4.65.0)\n",
      "Requirement already satisfied: fsspec>=2023.5.0 in d:\\new folder\\anaconda\\lib\\site-packages (from huggingface-hub<1.0,>=0.15.1->transformers) (2024.10.0)\n",
      "Requirement already satisfied: typing-extensions>=3.7.4.3 in d:\\new folder\\anaconda\\lib\\site-packages (from huggingface-hub<1.0,>=0.15.1->transformers) (4.11.0)\n",
      "Requirement already satisfied: colorama in d:\\new folder\\anaconda\\lib\\site-packages (from tqdm>=4.27->transformers) (0.4.6)\n",
      "Requirement already satisfied: charset-normalizer<4,>=2 in d:\\new folder\\anaconda\\lib\\site-packages (from requests->transformers) (2.0.4)\n",
      "Requirement already satisfied: idna<4,>=2.5 in d:\\new folder\\anaconda\\lib\\site-packages (from requests->transformers) (2.10)\n",
      "Requirement already satisfied: urllib3<3,>=1.21.1 in d:\\new folder\\anaconda\\lib\\site-packages (from requests->transformers) (1.26.16)\n",
      "Requirement already satisfied: certifi>=2017.4.17 in d:\\new folder\\anaconda\\lib\\site-packages (from requests->transformers) (2023.7.22)\n",
      "Downloading tokenizers-0.13.3-cp311-cp311-win_amd64.whl (3.5 MB)\n",
      "   ---------------------------------------- 0.0/3.5 MB ? eta -:--:--\n",
      "   ---------------------------------------- 0.0/3.5 MB 682.7 kB/s eta 0:00:06\n",
      "   ---------------------------------------- 0.0/3.5 MB 495.5 kB/s eta 0:00:07\n",
      "   - -------------------------------------- 0.1/3.5 MB 1.0 MB/s eta 0:00:04\n",
      "   -- ------------------------------------- 0.2/3.5 MB 1.2 MB/s eta 0:00:03\n",
      "   -- ------------------------------------- 0.3/3.5 MB 1.2 MB/s eta 0:00:03\n",
      "   --- ------------------------------------ 0.3/3.5 MB 1.2 MB/s eta 0:00:03\n",
      "   ----- ---------------------------------- 0.4/3.5 MB 1.5 MB/s eta 0:00:03\n",
      "   ------ --------------------------------- 0.5/3.5 MB 1.5 MB/s eta 0:00:02\n",
      "   ------- -------------------------------- 0.6/3.5 MB 1.5 MB/s eta 0:00:02\n",
      "   --------- ------------------------------ 0.8/3.5 MB 1.9 MB/s eta 0:00:02\n",
      "   ----------- ---------------------------- 1.0/3.5 MB 2.0 MB/s eta 0:00:02\n",
      "   ------------ --------------------------- 1.1/3.5 MB 2.1 MB/s eta 0:00:02\n",
      "   ---------------- ----------------------- 1.4/3.5 MB 2.3 MB/s eta 0:00:01\n",
      "   ------------------ --------------------- 1.6/3.5 MB 2.5 MB/s eta 0:00:01\n",
      "   ---------------------- ----------------- 1.9/3.5 MB 2.9 MB/s eta 0:00:01\n",
      "   ------------------------ --------------- 2.1/3.5 MB 3.0 MB/s eta 0:00:01\n",
      "   ------------------------ --------------- 2.1/3.5 MB 3.0 MB/s eta 0:00:01\n",
      "   ----------------------------- ---------- 2.5/3.5 MB 3.1 MB/s eta 0:00:01\n",
      "   ------------------------------ --------- 2.7/3.5 MB 3.1 MB/s eta 0:00:01\n",
      "   ----------------------------------- ---- 3.1/3.5 MB 3.4 MB/s eta 0:00:01\n",
      "   ---------------------------------------  3.5/3.5 MB 3.6 MB/s eta 0:00:01\n",
      "   ---------------------------------------- 3.5/3.5 MB 3.6 MB/s eta 0:00:00\n",
      "Installing collected packages: tokenizers\n",
      "  Attempting uninstall: tokenizers\n",
      "    Found existing installation: tokenizers 0.20.1\n",
      "    Uninstalling tokenizers-0.20.1:\n",
      "      Successfully uninstalled tokenizers-0.20.1\n",
      "Successfully installed tokenizers-0.13.3\n",
      "Note: you may need to restart the kernel to use updated packages.\n"
     ]
    },
    {
     "name": "stderr",
     "output_type": "stream",
     "text": [
      "\n",
      "[notice] A new release of pip is available: 24.0 -> 24.2\n",
      "[notice] To update, run: python.exe -m pip install --upgrade pip\n"
     ]
    }
   ],
   "source": [
    "pip install transformers"
   ]
  },
  {
   "cell_type": "code",
   "execution_count": 2,
   "id": "a6ddf3c0",
   "metadata": {},
   "outputs": [
    {
     "name": "stdout",
     "output_type": "stream",
     "text": [
      "Requirement already satisfied: transformers in d:\\new folder\\anaconda\\lib\\site-packages (4.32.1)\n",
      "Collecting transformers\n",
      "  Using cached transformers-4.45.2-py3-none-any.whl.metadata (44 kB)\n",
      "Requirement already satisfied: torch in d:\\new folder\\anaconda\\lib\\site-packages (2.5.0)\n",
      "Requirement already satisfied: filelock in d:\\new folder\\anaconda\\lib\\site-packages (from transformers) (3.9.0)\n",
      "Requirement already satisfied: huggingface-hub<1.0,>=0.23.2 in d:\\new folder\\anaconda\\lib\\site-packages (from transformers) (0.26.1)\n",
      "Requirement already satisfied: numpy>=1.17 in d:\\new folder\\anaconda\\lib\\site-packages (from transformers) (1.24.3)\n",
      "Requirement already satisfied: packaging>=20.0 in d:\\new folder\\anaconda\\lib\\site-packages (from transformers) (23.1)\n",
      "Requirement already satisfied: pyyaml>=5.1 in d:\\new folder\\anaconda\\lib\\site-packages (from transformers) (6.0)\n",
      "Requirement already satisfied: regex!=2019.12.17 in d:\\new folder\\anaconda\\lib\\site-packages (from transformers) (2022.7.9)\n",
      "Requirement already satisfied: requests in d:\\new folder\\anaconda\\lib\\site-packages (from transformers) (2.31.0)\n",
      "Requirement already satisfied: safetensors>=0.4.1 in d:\\new folder\\anaconda\\lib\\site-packages (from transformers) (0.4.5)\n",
      "Collecting tokenizers<0.21,>=0.20 (from transformers)\n",
      "  Using cached tokenizers-0.20.1-cp311-none-win_amd64.whl.metadata (6.9 kB)\n",
      "Requirement already satisfied: tqdm>=4.27 in d:\\new folder\\anaconda\\lib\\site-packages (from transformers) (4.65.0)\n",
      "Requirement already satisfied: typing-extensions>=4.8.0 in d:\\new folder\\anaconda\\lib\\site-packages (from torch) (4.11.0)\n",
      "Requirement already satisfied: networkx in d:\\new folder\\anaconda\\lib\\site-packages (from torch) (3.1)\n",
      "Requirement already satisfied: jinja2 in d:\\new folder\\anaconda\\lib\\site-packages (from torch) (3.1.2)\n",
      "Requirement already satisfied: fsspec in d:\\new folder\\anaconda\\lib\\site-packages (from torch) (2024.10.0)\n",
      "Requirement already satisfied: sympy==1.13.1 in d:\\new folder\\anaconda\\lib\\site-packages (from torch) (1.13.1)\n",
      "Requirement already satisfied: mpmath<1.4,>=1.1.0 in d:\\new folder\\anaconda\\lib\\site-packages (from sympy==1.13.1->torch) (1.3.0)\n",
      "Requirement already satisfied: colorama in d:\\new folder\\anaconda\\lib\\site-packages (from tqdm>=4.27->transformers) (0.4.6)\n",
      "Requirement already satisfied: MarkupSafe>=2.0 in d:\\new folder\\anaconda\\lib\\site-packages (from jinja2->torch) (2.1.1)\n",
      "Requirement already satisfied: charset-normalizer<4,>=2 in d:\\new folder\\anaconda\\lib\\site-packages (from requests->transformers) (2.0.4)\n",
      "Requirement already satisfied: idna<4,>=2.5 in d:\\new folder\\anaconda\\lib\\site-packages (from requests->transformers) (2.10)\n",
      "Requirement already satisfied: urllib3<3,>=1.21.1 in d:\\new folder\\anaconda\\lib\\site-packages (from requests->transformers) (1.26.16)\n",
      "Requirement already satisfied: certifi>=2017.4.17 in d:\\new folder\\anaconda\\lib\\site-packages (from requests->transformers) (2023.7.22)\n",
      "Using cached transformers-4.45.2-py3-none-any.whl (9.9 MB)\n",
      "Using cached tokenizers-0.20.1-cp311-none-win_amd64.whl (2.4 MB)\n",
      "Installing collected packages: tokenizers, transformers\n",
      "  Attempting uninstall: tokenizers\n",
      "    Found existing installation: tokenizers 0.13.3\n",
      "    Uninstalling tokenizers-0.13.3:\n",
      "      Successfully uninstalled tokenizers-0.13.3\n",
      "  Attempting uninstall: transformers\n",
      "    Found existing installation: transformers 4.32.1\n",
      "    Uninstalling transformers-4.32.1:\n",
      "      Successfully uninstalled transformers-4.32.1\n",
      "Successfully installed tokenizers-0.20.1 transformers-4.45.2\n",
      "Note: you may need to restart the kernel to use updated packages.\n"
     ]
    },
    {
     "name": "stderr",
     "output_type": "stream",
     "text": [
      "\n",
      "[notice] A new release of pip is available: 24.0 -> 24.2\n",
      "[notice] To update, run: python.exe -m pip install --upgrade pip\n"
     ]
    }
   ],
   "source": [
    "pip install --upgrade transformers torch"
   ]
  },
  {
   "cell_type": "code",
   "execution_count": 5,
   "id": "82de1bec",
   "metadata": {},
   "outputs": [
    {
     "name": "stdout",
     "output_type": "stream",
     "text": [
      "Collecting tf-keras\n",
      "  Downloading tf_keras-2.17.0-py3-none-any.whl.metadata (1.6 kB)\n",
      "Collecting tensorflow<2.18,>=2.17 (from tf-keras)\n",
      "  Downloading tensorflow-2.17.0-cp311-cp311-win_amd64.whl.metadata (3.2 kB)\n",
      "Collecting tensorflow-intel==2.17.0 (from tensorflow<2.18,>=2.17->tf-keras)\n",
      "  Using cached tensorflow_intel-2.17.0-cp311-cp311-win_amd64.whl.metadata (5.0 kB)\n",
      "Requirement already satisfied: absl-py>=1.0.0 in d:\\new folder\\anaconda\\lib\\site-packages (from tensorflow-intel==2.17.0->tensorflow<2.18,>=2.17->tf-keras) (2.1.0)\n",
      "Requirement already satisfied: astunparse>=1.6.0 in d:\\new folder\\anaconda\\lib\\site-packages (from tensorflow-intel==2.17.0->tensorflow<2.18,>=2.17->tf-keras) (1.6.3)\n",
      "Requirement already satisfied: flatbuffers>=24.3.25 in d:\\new folder\\anaconda\\lib\\site-packages (from tensorflow-intel==2.17.0->tensorflow<2.18,>=2.17->tf-keras) (24.3.25)\n",
      "Requirement already satisfied: gast!=0.5.0,!=0.5.1,!=0.5.2,>=0.2.1 in d:\\new folder\\anaconda\\lib\\site-packages (from tensorflow-intel==2.17.0->tensorflow<2.18,>=2.17->tf-keras) (0.5.4)\n",
      "Requirement already satisfied: google-pasta>=0.1.1 in d:\\new folder\\anaconda\\lib\\site-packages (from tensorflow-intel==2.17.0->tensorflow<2.18,>=2.17->tf-keras) (0.2.0)\n",
      "Requirement already satisfied: h5py>=3.10.0 in d:\\new folder\\anaconda\\lib\\site-packages (from tensorflow-intel==2.17.0->tensorflow<2.18,>=2.17->tf-keras) (3.10.0)\n",
      "Requirement already satisfied: libclang>=13.0.0 in d:\\new folder\\anaconda\\lib\\site-packages (from tensorflow-intel==2.17.0->tensorflow<2.18,>=2.17->tf-keras) (18.1.1)\n",
      "Requirement already satisfied: ml-dtypes<0.5.0,>=0.3.1 in d:\\new folder\\anaconda\\lib\\site-packages (from tensorflow-intel==2.17.0->tensorflow<2.18,>=2.17->tf-keras) (0.3.2)\n",
      "Requirement already satisfied: opt-einsum>=2.3.2 in d:\\new folder\\anaconda\\lib\\site-packages (from tensorflow-intel==2.17.0->tensorflow<2.18,>=2.17->tf-keras) (3.3.0)\n",
      "Requirement already satisfied: packaging in d:\\new folder\\anaconda\\lib\\site-packages (from tensorflow-intel==2.17.0->tensorflow<2.18,>=2.17->tf-keras) (23.1)\n",
      "Requirement already satisfied: protobuf!=4.21.0,!=4.21.1,!=4.21.2,!=4.21.3,!=4.21.4,!=4.21.5,<5.0.0dev,>=3.20.3 in d:\\new folder\\anaconda\\lib\\site-packages (from tensorflow-intel==2.17.0->tensorflow<2.18,>=2.17->tf-keras) (4.25.3)\n",
      "Requirement already satisfied: requests<3,>=2.21.0 in d:\\new folder\\anaconda\\lib\\site-packages (from tensorflow-intel==2.17.0->tensorflow<2.18,>=2.17->tf-keras) (2.31.0)\n",
      "Requirement already satisfied: setuptools in d:\\new folder\\anaconda\\lib\\site-packages (from tensorflow-intel==2.17.0->tensorflow<2.18,>=2.17->tf-keras) (69.5.1)\n",
      "Requirement already satisfied: six>=1.12.0 in d:\\new folder\\anaconda\\lib\\site-packages (from tensorflow-intel==2.17.0->tensorflow<2.18,>=2.17->tf-keras) (1.16.0)\n",
      "Requirement already satisfied: termcolor>=1.1.0 in d:\\new folder\\anaconda\\lib\\site-packages (from tensorflow-intel==2.17.0->tensorflow<2.18,>=2.17->tf-keras) (2.4.0)\n",
      "Requirement already satisfied: typing-extensions>=3.6.6 in d:\\new folder\\anaconda\\lib\\site-packages (from tensorflow-intel==2.17.0->tensorflow<2.18,>=2.17->tf-keras) (4.11.0)\n",
      "Requirement already satisfied: wrapt>=1.11.0 in d:\\new folder\\anaconda\\lib\\site-packages (from tensorflow-intel==2.17.0->tensorflow<2.18,>=2.17->tf-keras) (1.14.1)\n",
      "Requirement already satisfied: grpcio<2.0,>=1.24.3 in d:\\new folder\\anaconda\\lib\\site-packages (from tensorflow-intel==2.17.0->tensorflow<2.18,>=2.17->tf-keras) (1.62.1)\n",
      "Collecting tensorboard<2.18,>=2.17 (from tensorflow-intel==2.17.0->tensorflow<2.18,>=2.17->tf-keras)\n",
      "  Using cached tensorboard-2.17.1-py3-none-any.whl.metadata (1.6 kB)\n",
      "Collecting keras>=3.2.0 (from tensorflow-intel==2.17.0->tensorflow<2.18,>=2.17->tf-keras)\n",
      "  Downloading keras-3.6.0-py3-none-any.whl.metadata (5.8 kB)\n",
      "Requirement already satisfied: tensorflow-io-gcs-filesystem>=0.23.1 in d:\\new folder\\anaconda\\lib\\site-packages (from tensorflow-intel==2.17.0->tensorflow<2.18,>=2.17->tf-keras) (0.31.0)\n",
      "Requirement already satisfied: numpy<2.0.0,>=1.23.5 in d:\\new folder\\anaconda\\lib\\site-packages (from tensorflow-intel==2.17.0->tensorflow<2.18,>=2.17->tf-keras) (1.24.3)\n",
      "Requirement already satisfied: wheel<1.0,>=0.23.0 in d:\\new folder\\anaconda\\lib\\site-packages (from astunparse>=1.6.0->tensorflow-intel==2.17.0->tensorflow<2.18,>=2.17->tf-keras) (0.38.4)\n",
      "Requirement already satisfied: rich in d:\\new folder\\anaconda\\lib\\site-packages (from keras>=3.2.0->tensorflow-intel==2.17.0->tensorflow<2.18,>=2.17->tf-keras) (13.7.1)\n",
      "Requirement already satisfied: namex in d:\\new folder\\anaconda\\lib\\site-packages (from keras>=3.2.0->tensorflow-intel==2.17.0->tensorflow<2.18,>=2.17->tf-keras) (0.0.7)\n",
      "Requirement already satisfied: optree in d:\\new folder\\anaconda\\lib\\site-packages (from keras>=3.2.0->tensorflow-intel==2.17.0->tensorflow<2.18,>=2.17->tf-keras) (0.11.0)\n",
      "Requirement already satisfied: charset-normalizer<4,>=2 in d:\\new folder\\anaconda\\lib\\site-packages (from requests<3,>=2.21.0->tensorflow-intel==2.17.0->tensorflow<2.18,>=2.17->tf-keras) (2.0.4)\n",
      "Requirement already satisfied: idna<4,>=2.5 in d:\\new folder\\anaconda\\lib\\site-packages (from requests<3,>=2.21.0->tensorflow-intel==2.17.0->tensorflow<2.18,>=2.17->tf-keras) (2.10)\n",
      "Requirement already satisfied: urllib3<3,>=1.21.1 in d:\\new folder\\anaconda\\lib\\site-packages (from requests<3,>=2.21.0->tensorflow-intel==2.17.0->tensorflow<2.18,>=2.17->tf-keras) (1.26.16)\n",
      "Requirement already satisfied: certifi>=2017.4.17 in d:\\new folder\\anaconda\\lib\\site-packages (from requests<3,>=2.21.0->tensorflow-intel==2.17.0->tensorflow<2.18,>=2.17->tf-keras) (2023.7.22)\n",
      "Requirement already satisfied: markdown>=2.6.8 in d:\\new folder\\anaconda\\lib\\site-packages (from tensorboard<2.18,>=2.17->tensorflow-intel==2.17.0->tensorflow<2.18,>=2.17->tf-keras) (3.4.1)\n",
      "Requirement already satisfied: tensorboard-data-server<0.8.0,>=0.7.0 in d:\\new folder\\anaconda\\lib\\site-packages (from tensorboard<2.18,>=2.17->tensorflow-intel==2.17.0->tensorflow<2.18,>=2.17->tf-keras) (0.7.2)\n",
      "Requirement already satisfied: werkzeug>=1.0.1 in d:\\new folder\\anaconda\\lib\\site-packages (from tensorboard<2.18,>=2.17->tensorflow-intel==2.17.0->tensorflow<2.18,>=2.17->tf-keras) (2.2.3)\n",
      "Requirement already satisfied: MarkupSafe>=2.1.1 in d:\\new folder\\anaconda\\lib\\site-packages (from werkzeug>=1.0.1->tensorboard<2.18,>=2.17->tensorflow-intel==2.17.0->tensorflow<2.18,>=2.17->tf-keras) (2.1.1)\n",
      "Requirement already satisfied: markdown-it-py>=2.2.0 in d:\\new folder\\anaconda\\lib\\site-packages (from rich->keras>=3.2.0->tensorflow-intel==2.17.0->tensorflow<2.18,>=2.17->tf-keras) (2.2.0)\n",
      "Requirement already satisfied: pygments<3.0.0,>=2.13.0 in d:\\new folder\\anaconda\\lib\\site-packages (from rich->keras>=3.2.0->tensorflow-intel==2.17.0->tensorflow<2.18,>=2.17->tf-keras) (2.15.1)\n",
      "Requirement already satisfied: mdurl~=0.1 in d:\\new folder\\anaconda\\lib\\site-packages (from markdown-it-py>=2.2.0->rich->keras>=3.2.0->tensorflow-intel==2.17.0->tensorflow<2.18,>=2.17->tf-keras) (0.1.0)\n",
      "Downloading tf_keras-2.17.0-py3-none-any.whl (1.7 MB)\n",
      "   ---------------------------------------- 0.0/1.7 MB ? eta -:--:--\n",
      "    --------------------------------------- 0.0/1.7 MB 660.6 kB/s eta 0:00:03\n",
      "   - -------------------------------------- 0.1/1.7 MB 919.0 kB/s eta 0:00:02\n",
      "   --- ------------------------------------ 0.1/1.7 MB 1.1 MB/s eta 0:00:02\n",
      "   ----- ---------------------------------- 0.2/1.7 MB 1.4 MB/s eta 0:00:02\n",
      "   -------- ------------------------------- 0.4/1.7 MB 1.6 MB/s eta 0:00:01\n",
      "   --------- ------------------------------ 0.4/1.7 MB 1.5 MB/s eta 0:00:01\n",
      "   ------------ --------------------------- 0.5/1.7 MB 1.7 MB/s eta 0:00:01\n",
      "   -------------- ------------------------- 0.6/1.7 MB 1.9 MB/s eta 0:00:01\n",
      "   ----------------- ---------------------- 0.8/1.7 MB 1.9 MB/s eta 0:00:01\n",
      "   ------------------- -------------------- 0.8/1.7 MB 1.9 MB/s eta 0:00:01\n",
      "   ---------------------- ----------------- 1.0/1.7 MB 2.0 MB/s eta 0:00:01\n",
      "   ------------------------ --------------- 1.1/1.7 MB 2.0 MB/s eta 0:00:01\n",
      "   -------------------------- ------------- 1.2/1.7 MB 1.9 MB/s eta 0:00:01\n",
      "   ----------------------------- ---------- 1.3/1.7 MB 2.0 MB/s eta 0:00:01\n",
      "   -------------------------------- ------- 1.4/1.7 MB 2.0 MB/s eta 0:00:01\n",
      "   --------------------------------- ------ 1.5/1.7 MB 2.0 MB/s eta 0:00:01\n",
      "   ------------------------------------ --- 1.6/1.7 MB 2.0 MB/s eta 0:00:01\n",
      "   ---------------------------------------  1.7/1.7 MB 2.1 MB/s eta 0:00:01\n",
      "   ---------------------------------------- 1.7/1.7 MB 2.0 MB/s eta 0:00:00\n",
      "Downloading tensorflow-2.17.0-cp311-cp311-win_amd64.whl (2.0 kB)\n",
      "Using cached tensorflow_intel-2.17.0-cp311-cp311-win_amd64.whl (385.0 MB)\n",
      "Downloading keras-3.6.0-py3-none-any.whl (1.2 MB)\n",
      "   ---------------------------------------- 0.0/1.2 MB ? eta -:--:--\n",
      "   ---- ----------------------------------- 0.1/1.2 MB 7.5 MB/s eta 0:00:01\n",
      "   -------- ------------------------------- 0.3/1.2 MB 2.6 MB/s eta 0:00:01\n",
      "   ----------- ---------------------------- 0.3/1.2 MB 2.3 MB/s eta 0:00:01\n",
      "   ---------------- ----------------------- 0.5/1.2 MB 2.8 MB/s eta 0:00:01\n",
      "   -------------------- ------------------- 0.6/1.2 MB 2.8 MB/s eta 0:00:01\n",
      "   -------------------------- ------------- 0.8/1.2 MB 2.7 MB/s eta 0:00:01\n",
      "   ------------------------------- -------- 0.9/1.2 MB 2.8 MB/s eta 0:00:01\n",
      "   ------------------------------------- -- 1.1/1.2 MB 2.9 MB/s eta 0:00:01\n",
      "   ---------------------------------------- 1.2/1.2 MB 2.8 MB/s eta 0:00:00\n",
      "Using cached tensorboard-2.17.1-py3-none-any.whl (5.5 MB)\n",
      "Installing collected packages: tensorboard, keras, tensorflow-intel, tensorflow, tf-keras\n",
      "  Attempting uninstall: tensorboard\n",
      "    Found existing installation: tensorboard 2.16.2\n",
      "    Uninstalling tensorboard-2.16.2:\n",
      "      Successfully uninstalled tensorboard-2.16.2\n",
      "  Attempting uninstall: keras\n",
      "    Found existing installation: keras 3.1.1\n",
      "    Uninstalling keras-3.1.1:\n",
      "      Successfully uninstalled keras-3.1.1\n",
      "  Attempting uninstall: tensorflow-intel\n",
      "    Found existing installation: tensorflow-intel 2.16.1\n",
      "    Uninstalling tensorflow-intel-2.16.1:\n",
      "      Successfully uninstalled tensorflow-intel-2.16.1\n",
      "  Attempting uninstall: tensorflow\n",
      "    Found existing installation: tensorflow 2.16.1\n",
      "    Uninstalling tensorflow-2.16.1:\n",
      "      Successfully uninstalled tensorflow-2.16.1\n",
      "Successfully installed keras-3.6.0 tensorboard-2.17.1 tensorflow-2.17.0 tensorflow-intel-2.17.0 tf-keras-2.17.0\n",
      "Note: you may need to restart the kernel to use updated packages.\n"
     ]
    },
    {
     "name": "stderr",
     "output_type": "stream",
     "text": [
      "  WARNING: Failed to remove contents in a temporary directory 'D:\\New folder\\anaconda\\Lib\\site-packages\\~ensorflow'.\n",
      "  You can safely remove it manually.\n",
      "\n",
      "[notice] A new release of pip is available: 24.0 -> 24.2\n",
      "[notice] To update, run: python.exe -m pip install --upgrade pip\n"
     ]
    }
   ],
   "source": [
    "pip install tf-keras"
   ]
  },
  {
   "cell_type": "code",
   "execution_count": 3,
   "id": "5eb79c8e",
   "metadata": {},
   "outputs": [
    {
     "name": "stdout",
     "output_type": "stream",
     "text": [
      "Collecting sentencepiece\n",
      "  Downloading sentencepiece-0.2.0-cp311-cp311-win_amd64.whl.metadata (8.3 kB)\n",
      "Downloading sentencepiece-0.2.0-cp311-cp311-win_amd64.whl (991 kB)\n",
      "   ---------------------------------------- 0.0/991.5 kB ? eta -:--:--\n",
      "   ---------------------------------------- 10.2/991.5 kB ? eta -:--:--\n",
      "   -- ------------------------------------ 61.4/991.5 kB 812.7 kB/s eta 0:00:02\n",
      "   ----- ---------------------------------- 143.4/991.5 kB 1.2 MB/s eta 0:00:01\n",
      "   --------- ------------------------------ 225.3/991.5 kB 1.4 MB/s eta 0:00:01\n",
      "   ----------- ---------------------------- 297.0/991.5 kB 1.4 MB/s eta 0:00:01\n",
      "   -------------- ------------------------- 358.4/991.5 kB 1.4 MB/s eta 0:00:01\n",
      "   ----------------- ---------------------- 430.1/991.5 kB 1.4 MB/s eta 0:00:01\n",
      "   -------------------- ------------------- 512.0/991.5 kB 1.5 MB/s eta 0:00:01\n",
      "   ------------------------- -------------- 624.6/991.5 kB 1.6 MB/s eta 0:00:01\n",
      "   ------------------------------ --------- 757.8/991.5 kB 1.7 MB/s eta 0:00:01\n",
      "   ------------------------------------ --- 901.1/991.5 kB 1.9 MB/s eta 0:00:01\n",
      "   ---------------------------------------- 991.5/991.5 kB 1.9 MB/s eta 0:00:00\n",
      "Installing collected packages: sentencepiece\n",
      "Successfully installed sentencepiece-0.2.0\n",
      "Note: you may need to restart the kernel to use updated packages.\n"
     ]
    },
    {
     "name": "stderr",
     "output_type": "stream",
     "text": [
      "\n",
      "[notice] A new release of pip is available: 24.0 -> 24.2\n",
      "[notice] To update, run: python.exe -m pip install --upgrade pip\n"
     ]
    }
   ],
   "source": [
    "pip install sentencepiece"
   ]
  },
  {
   "cell_type": "code",
   "execution_count": 2,
   "id": "63a741fd",
   "metadata": {},
   "outputs": [],
   "source": [
    "import tensorflow as tf\n",
    "import tf_keras as keras\n",
    "from transformers import T5Tokenizer, TFT5ForConditionalGeneration"
   ]
  },
  {
   "cell_type": "code",
   "execution_count": 3,
   "id": "a340b16e",
   "metadata": {},
   "outputs": [
    {
     "name": "stderr",
     "output_type": "stream",
     "text": [
      "All PyTorch model weights were used when initializing TFT5ForConditionalGeneration.\n",
      "\n",
      "All the weights of TFT5ForConditionalGeneration were initialized from the PyTorch model.\n",
      "If your task is similar to the task the model of the checkpoint was trained on, you can already use TFT5ForConditionalGeneration for predictions without further training.\n"
     ]
    }
   ],
   "source": [
    "model_name= 't5-small'\n",
    "model= TFT5ForConditionalGeneration.from_pretrained(model_name)\n",
    "tokenizer= T5Tokenizer.from_pretrained(model_name)"
   ]
  },
  {
   "cell_type": "code",
   "execution_count": 10,
   "id": "8f394dd6",
   "metadata": {},
   "outputs": [],
   "source": [
    "text = \"\"\"\n",
    "Daffodil International University (DIU) is a prominent private research institution located in Daffodil Smart City, Birulia, Savar, Dhaka, Bangladesh. Established on January 24, 2002, under the Private University Act of 1992, DIU holds the distinction of being the largest private university in Bangladesh in terms of land area. It is noteworthy that DIU was the first university in the country to sign the United Nations' Commitment to Sustainable Practices in Higher Education Institutions. In terms of academic excellence, DIU has achieved remarkable recognition, securing the second position among all universities and the first among private universities in Bangladesh, as per SCOPUS indexed research publications in 2022. The university's establishment was sanctioned by the University Grants Commission (Bangladesh) and the Ministry of Education, following the guidelines of the Private University Act of 1992, which was later replaced by the Private University Act of 2010.\n",
    "The university's sprawling campus is situated in Daffodil Smart City, encompassing approximately 150 acres. This modern campus is equipped with various facilities, including hostels, a golf course, and a shopping mall, providing students with a conducive environment for both academic and extracurricular activities. Over the years, DIU has seen several vice-chancellors leading its academic journey. The first vice-chancellor, Aminul Islam, served from 2002 to 2011, followed by M. Lutfar Rahman from 2011 to 2015. Yousuf Mahbubul Islam held the position from 2015 to 2020, after which M. Lutfar Rahman resumed his role as vice-chancellor in 2020, continuing to lead the university's strategic initiatives.\n",
    "DIU offers a diverse range of programs at the bachelor’s, master’s, and doctoral levels through its 25 departments, organized into five faculties. The Faculty of Science & Information Technology includes departments such as Computer Science and Engineering, Software Engineering, Multimedia and Creative Technology, Computing and Information Systems, and Information Technology and Management. In the Faculty of Engineering, students can pursue degrees in Electrical and Electronic Engineering, Textile Engineering, Civil Engineering, Information and Communication Engineering, and Architecture. The Faculty of Business & Entrepreneurship comprises departments like Business Administration, Management, Real Estate, Tourism & Hospitality Management, Innovation & Entrepreneurship, and Accounting, preparing students for the dynamic business landscape.\n",
    "The Faculty of Humanities & Social Science offers programs in English, Law, Journalism, Media and Communication, and Development Studies, focusing on the development of critical thinking and analytical skills. Lastly, the Faculty of Health and Life Sciences encompasses departments such as Environmental Science and Disaster Management, Pharmacy, Nutrition and Food Engineering, Public Health, Physical Education & Sports Science, and Agricultural Science, addressing the diverse health and environmental challenges of today’s society.\n",
    "In addition to its faculties, DIU hosts several specialized institutes that enhance its academic offerings. The Daffodil Institute of Languages (DIL) provides language education, while the Human Resource Development Institute (HRDI) focuses on developing skilled human resources. The Enterprise Competitiveness Institute (ECI) promotes entrepreneurship, and the Daffodil Institute of Social Sciences (DISS) supports research and education in social sciences. The Institutional Quality Assurance Cell (IQAC) ensures the quality of education, and the Directorate of Students' Affairs oversees student-related services and activities.\n",
    "DIU also emphasizes research and innovation through various centers. The Division of Research supports scholarly activities, while the Yunus Social Business Centre (YSBC) fosters social entrepreneurship. The Innovation and Incubation Centre (IIC) nurtures startups and innovative projects, and the Career Development Centre (CDC) provides career guidance and support to students. Additionally, the Cyber Security Center (CSC) addresses emerging security challenges, and the Daffodil Islamic Center promotes Islamic studies and values.\n",
    "Furthermore, DIU is equipped with facilities to cater to the health and well-being of its students. The DIU Medical Center offers healthcare services, while the Day Care Center supports the childcare needs of students and staff. The DIU Business Incubator provides resources for aspiring entrepreneurs, and the DIU Belt & Road Research Centre focuses on research related to the Belt and Road Initiative, promoting international collaboration and development.\n",
    "In summary, Daffodil International University stands out as a leading institution in Bangladesh, renowned for its commitment to academic excellence, research, and sustainable practices. With its extensive range of programs, modern facilities, and dedicated faculty, DIU continues to play a vital role in shaping the future of higher education in the country and beyond. Through its initiatives, the university not only aims to equip students with knowledge and skills but also to contribute to the broader societal goals of sustainable development and innovation, making it a significant player in the global academic landscape.\n",
    "\"\"\""
   ]
  },
  {
   "cell_type": "code",
   "execution_count": 11,
   "id": "9e32f69c",
   "metadata": {},
   "outputs": [
    {
     "name": "stdout",
     "output_type": "stream",
     "text": [
      "Tokenized input text has 736 tokens.\n"
     ]
    }
   ],
   "source": [
    "# Preprocess the input text\n",
    "preprocessed_text = text.strip().replace('\\n', ' ')\n",
    "t5_input_text = 'summarize: ' + preprocessed_text\n",
    "print(f\"Tokenized input text has {len(t5_input_text.split())} tokens.\")"
   ]
  },
  {
   "cell_type": "code",
   "execution_count": 12,
   "id": "975539c0",
   "metadata": {},
   "outputs": [],
   "source": [
    "# Tokenize input\n",
    "tokenized_text= tokenizer.encode(t5_input_text, return_tensors='tf', max_length=512, truncation=True)"
   ]
  },
  {
   "cell_type": "code",
   "execution_count": 13,
   "id": "cf3a572e",
   "metadata": {},
   "outputs": [],
   "source": [
    "# Generate the summary\n",
    "summary_ids= model.generate(tokenized_text, min_length=30, max_length=120)"
   ]
  },
  {
   "cell_type": "code",
   "execution_count": 14,
   "id": "5c206108",
   "metadata": {},
   "outputs": [],
   "source": [
    "summary = tokenizer.decode(summary_ids[0], skip_special_tokens=True)"
   ]
  },
  {
   "cell_type": "code",
   "execution_count": 15,
   "id": "546a67ea",
   "metadata": {},
   "outputs": [
    {
     "name": "stdout",
     "output_type": "stream",
     "text": [
      "Summary: \n",
      " the university is located in Daffodil Smart City, Birulia, Savar, Dhaka, Bangladesh. it is the largest private university in Bangladesh in terms of land area. it was the first university in the country to sign the United Nations' commitment to sustainable practices in higher education institutions.\n"
     ]
    }
   ],
   "source": [
    "print(\"Summary: \\n\", summary)"
   ]
  },
  {
   "cell_type": "code",
   "execution_count": null,
   "id": "b2121822",
   "metadata": {},
   "outputs": [],
   "source": []
  },
  {
   "cell_type": "code",
   "execution_count": null,
   "id": "97922847",
   "metadata": {},
   "outputs": [],
   "source": []
  },
  {
   "cell_type": "code",
   "execution_count": null,
   "id": "4a11fd45",
   "metadata": {},
   "outputs": [],
   "source": []
  },
  {
   "cell_type": "code",
   "execution_count": null,
   "id": "3bbfe48b",
   "metadata": {},
   "outputs": [],
   "source": []
  },
  {
   "cell_type": "code",
   "execution_count": null,
   "id": "8c2e5809",
   "metadata": {},
   "outputs": [],
   "source": []
  },
  {
   "cell_type": "code",
   "execution_count": null,
   "id": "77ddd1c7",
   "metadata": {},
   "outputs": [],
   "source": []
  },
  {
   "cell_type": "code",
   "execution_count": null,
   "id": "429d4105",
   "metadata": {},
   "outputs": [],
   "source": []
  },
  {
   "cell_type": "code",
   "execution_count": null,
   "id": "d7a4570f",
   "metadata": {},
   "outputs": [],
   "source": []
  },
  {
   "cell_type": "code",
   "execution_count": null,
   "id": "8ca5c850",
   "metadata": {},
   "outputs": [],
   "source": []
  },
  {
   "cell_type": "code",
   "execution_count": null,
   "id": "36bb6146",
   "metadata": {},
   "outputs": [],
   "source": []
  },
  {
   "cell_type": "code",
   "execution_count": null,
   "id": "eebfee74",
   "metadata": {},
   "outputs": [],
   "source": []
  }
 ],
 "metadata": {
  "kernelspec": {
   "display_name": "Python 3 (ipykernel)",
   "language": "python",
   "name": "python3"
  },
  "language_info": {
   "codemirror_mode": {
    "name": "ipython",
    "version": 3
   },
   "file_extension": ".py",
   "mimetype": "text/x-python",
   "name": "python",
   "nbconvert_exporter": "python",
   "pygments_lexer": "ipython3",
   "version": "3.11.5"
  }
 },
 "nbformat": 4,
 "nbformat_minor": 5
}
